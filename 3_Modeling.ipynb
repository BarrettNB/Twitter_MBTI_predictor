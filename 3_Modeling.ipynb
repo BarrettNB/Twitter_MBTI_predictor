{
 "cells": [
  {
   "cell_type": "code",
   "execution_count": 1,
   "metadata": {},
   "outputs": [],
   "source": [
    "from sklearn.ensemble import RandomForestClassifier\n",
    "from sklearn.feature_extraction.text import CountVectorizer\n",
    "from sklearn.linear_model import LogisticRegression\n",
    "from sklearn.metrics import balanced_accuracy_score, classification_report,\\\n",
    "    precision_recall_curve, precision_recall_fscore_support\n",
    "from sklearn.model_selection import train_test_split, GridSearchCV\n",
    "from sklearn.naive_bayes import MultinomialNB\n",
    "import matplotlib.pyplot as plt\n",
    "import numpy as np\n",
    "import pandas as pd\n",
    "import os\n",
    "import re\n",
    "import sys\n",
    "LIBPATH = r'D:\\Springboard_DataSci\\Assignments\\Lib'\n",
    "if LIBPATH not in sys.path:\n",
    "    sys.path.insert(0, LIBPATH)\n",
    "import TimeTracker\n",
    "\n",
    "TYPE = 'Type'\n",
    "LOGISTIC = 'logistic'\n",
    "NAIVE_BAYES = 'multinomial naive Bayes'\n",
    "RAND_FOREST = 'random forest'\n",
    "\n",
    "# Get all the tweets.\n",
    "path = r'D:\\Springboard_DataSci\\Twitter_MBTI_predictor\\Data Output'\n",
    "os.chdir(path)"
   ]
  },
  {
   "cell_type": "code",
   "execution_count": 2,
   "metadata": {},
   "outputs": [],
   "source": [
    "letters = [['E', 'I'], ['S', 'N'], ['F', 'T'], ['J', 'P']]\n",
    "MB_types = []\n",
    "# Get the list of types using binary math.\n",
    "for i in range(16):\n",
    "    MB_types.append(letters[0][i//8%2] + letters[1][i//4%2]\n",
    "                      + letters[2][i//2%2] + letters[3][i%2])"
   ]
  },
  {
   "cell_type": "code",
   "execution_count": 3,
   "metadata": {},
   "outputs": [],
   "source": [
    "def load_tweets(MB_type):\n",
    "    return pd.read_csv(\n",
    "        path + '\\\\' + MB_type + '_tweets.csv', parse_dates=[2],\n",
    "        infer_datetime_format=True)"
   ]
  },
  {
   "cell_type": "code",
   "execution_count": 4,
   "metadata": {},
   "outputs": [
    {
     "name": "stdout",
     "output_type": "stream",
     "text": [
      "Loading tweets: ESFJ ESFP ESTJ ESTP ENFJ ENFP ENTJ ENTP ISFJ ISFP ISTJ ISTP INFJ INFP INTJ INTP "
     ]
    }
   ],
   "source": [
    "# Load tweets\n",
    "print('Loading tweets:', end=' ')\n",
    "for i, MB_type in enumerate(MB_types):\n",
    "    print(f'{MB_type}', end=' ')\n",
    "    if i == 0:\n",
    "        tweets = load_tweets(MB_type)\n",
    "    else:\n",
    "        tweets = tweets.append(load_tweets(MB_type))"
   ]
  },
  {
   "cell_type": "code",
   "execution_count": 5,
   "metadata": {},
   "outputs": [],
   "source": [
    "# Classify their type\n",
    "for i, letter in enumerate('ESFJ'):\n",
    "    tweets[letter] = tweets['MBTI'].str[i] == letter"
   ]
  },
  {
   "cell_type": "markdown",
   "metadata": {},
   "source": [
    "We're going to pick up a lot of junk if we don't trim out tags and hashtags.\n",
    "Let's do that now."
   ]
  },
  {
   "cell_type": "code",
   "execution_count": 6,
   "metadata": {},
   "outputs": [],
   "source": [
    "def trim_tweet(tweet):\n",
    "    return ' '.join(re.sub(\"(@[A-Za-z0-9]+)|([^0-9A-Za-z \\t])|(\\w+:\\/\\/\\S+)\",\n",
    "                           \" \", tweet).split())"
   ]
  },
  {
   "cell_type": "code",
   "execution_count": 7,
   "metadata": {},
   "outputs": [
    {
     "name": "stdout",
     "output_type": "stream",
     "text": [
      "\n",
      "Trimming tweets of tags and URLs\n"
     ]
    }
   ],
   "source": [
    "print('\\nTrimming tweets of tags and URLs')\n",
    "tweets['Tweet'] = tweets['Tweet'].apply(trim_tweet)"
   ]
  },
  {
   "cell_type": "markdown",
   "metadata": {},
   "source": [
    "Now let's attempt to classify."
   ]
  },
  {
   "cell_type": "code",
   "execution_count": 8,
   "metadata": {},
   "outputs": [
    {
     "name": "stdout",
     "output_type": "stream",
     "text": [
      "Grouping tweets by author\n"
     ]
    }
   ],
   "source": [
    "print('Grouping tweets by author')\n",
    "tweets_per_author = tweets.copy()\n",
    "tweets_per_author['Tweet'] = tweets_per_author['Tweet']\\\n",
    "    .apply(lambda x: x + ' ')\n",
    "tweets_per_author = tweets_per_author.groupby(\n",
    "    tweets_per_author['Screen name'])['Tweet'].apply(lambda x: x.sum())\\\n",
    "    .reset_index()\n",
    "# This threw away the MBTI info, but we can get it back.\n",
    "authors_MBTI = tweets[['Screen name', 'E', 'S', 'F', 'J']].drop_duplicates()\n",
    "tweets_per_author = tweets_per_author.merge(\n",
    "    authors_MBTI, 'left', on='Screen name')\n",
    "\n",
    "test_letters = [letter[0] for letter in letters] #for later"
   ]
  },
  {
   "cell_type": "markdown",
   "metadata": {},
   "source": [
    "We've looked through several combinations of hyperparameters. Let's look\n",
    "for the one that performs the best on each axis. We search by axis (letter),\n",
    "min_df, classifier, and hyperparameter. We look for the best test score per\n",
    "run and record it. This testing includes random forests, which we have not\n",
    "looked at yet."
   ]
  },
  {
   "cell_type": "code",
   "execution_count": 9,
   "metadata": {},
   "outputs": [
    {
     "name": "stdout",
     "output_type": "stream",
     "text": [
      "\n",
      "Analyzing tweets: ['E', 'I']\n",
      "min_df = 50\n",
      "\tBest Naive Bayes parameters: {'alpha': 10.0}\n",
      "\tBest Naive Bayes CV score: 0.58\n",
      "\tBest random forest parameters: {'max_depth': 5, 'random_state': 0}\n",
      "\tBest random forest CV score: 0.58\n",
      "\tBest logistic regression parameters: {'C': 0.01, 'max_iter': 10000.0, 'random_state': 0}\n",
      "\tBest logistic regression CV score: 0.55\n",
      "min_df = 100\n",
      "\tBest Naive Bayes parameters: {'alpha': 100.0}\n",
      "\tBest Naive Bayes CV score: 0.58\n",
      "\tBest random forest parameters: {'max_depth': 2, 'random_state': 0}\n",
      "\tBest random forest CV score: 0.57\n",
      "\tBest logistic regression parameters: {'C': 0.01, 'max_iter': 10000.0, 'random_state': 0}\n",
      "\tBest logistic regression CV score: 0.55\n",
      "min_df = 200\n",
      "\tBest Naive Bayes parameters: {'alpha': 0.01}\n",
      "\tBest Naive Bayes CV score: 0.58\n",
      "\tBest random forest parameters: {'max_depth': 5, 'random_state': 0}\n",
      "\tBest random forest CV score: 0.57\n",
      "\tBest logistic regression parameters: {'C': 0.01, 'max_iter': 10000.0, 'random_state': 0}\n",
      "\tBest logistic regression CV score: 0.55\n",
      "min_df = 300\n",
      "\tBest Naive Bayes parameters: {'alpha': 100.0}\n",
      "\tBest Naive Bayes CV score: 0.58\n",
      "\tBest random forest parameters: {'max_depth': 2, 'random_state': 0}\n",
      "\tBest random forest CV score: 0.57\n",
      "\tBest logistic regression parameters: {'C': 0.01, 'max_iter': 10000.0, 'random_state': 0}\n",
      "\tBest logistic regression CV score: 0.54\n",
      "min_df = 500\n",
      "\tBest Naive Bayes parameters: {'alpha': 0.01}\n",
      "\tBest Naive Bayes CV score: 0.58\n",
      "\tBest random forest parameters: {'max_depth': 2, 'random_state': 0}\n",
      "\tBest random forest CV score: 0.57\n",
      "\tBest logistic regression parameters: {'C': 0.01, 'max_iter': 10000.0, 'random_state': 0}\n",
      "\tBest logistic regression CV score: 0.53\n",
      "\n",
      "Analyzing tweets: ['S', 'N']\n",
      "min_df = 50\n",
      "\tBest Naive Bayes parameters: {'alpha': 10.0}\n",
      "\tBest Naive Bayes CV score: 0.62\n",
      "\tBest random forest parameters: {'max_depth': 3, 'random_state': 0}\n",
      "\tBest random forest CV score: 0.60\n",
      "\tBest logistic regression parameters: {'C': 0.01, 'max_iter': 10000.0, 'random_state': 0}\n",
      "\tBest logistic regression CV score: 0.59\n",
      "min_df = 100\n",
      "\tBest Naive Bayes parameters: {'alpha': 0.01}\n",
      "\tBest Naive Bayes CV score: 0.63\n",
      "\tBest random forest parameters: {'max_depth': 5, 'random_state': 0}\n",
      "\tBest random forest CV score: 0.59\n",
      "\tBest logistic regression parameters: {'C': 0.01, 'max_iter': 10000.0, 'random_state': 0}\n",
      "\tBest logistic regression CV score: 0.57\n",
      "min_df = 200\n",
      "\tBest Naive Bayes parameters: {'alpha': 0.01}\n",
      "\tBest Naive Bayes CV score: 0.62\n",
      "\tBest random forest parameters: {'max_depth': 4, 'random_state': 0}\n",
      "\tBest random forest CV score: 0.59\n",
      "\tBest logistic regression parameters: {'C': 0.01, 'max_iter': 10000.0, 'random_state': 0}\n",
      "\tBest logistic regression CV score: 0.58\n",
      "min_df = 300\n",
      "\tBest Naive Bayes parameters: {'alpha': 10.0}\n",
      "\tBest Naive Bayes CV score: 0.61\n",
      "\tBest random forest parameters: {'max_depth': 5, 'random_state': 0}\n",
      "\tBest random forest CV score: 0.60\n",
      "\tBest logistic regression parameters: {'C': 0.01, 'max_iter': 10000.0, 'random_state': 0}\n",
      "\tBest logistic regression CV score: 0.58\n",
      "min_df = 500\n",
      "\tBest Naive Bayes parameters: {'alpha': 10.0}\n",
      "\tBest Naive Bayes CV score: 0.62\n",
      "\tBest random forest parameters: {'max_depth': 4, 'random_state': 0}\n",
      "\tBest random forest CV score: 0.60\n",
      "\tBest logistic regression parameters: {'C': 0.01, 'max_iter': 10000.0, 'random_state': 0}\n",
      "\tBest logistic regression CV score: 0.58\n",
      "\n",
      "Analyzing tweets: ['F', 'T']\n",
      "min_df = 50\n",
      "\tBest Naive Bayes parameters: {'alpha': 100.0}\n",
      "\tBest Naive Bayes CV score: 0.60\n",
      "\tBest random forest parameters: {'max_depth': 3, 'random_state': 0}\n",
      "\tBest random forest CV score: 0.61\n",
      "\tBest logistic regression parameters: {'C': 0.1, 'max_iter': 10000.0, 'random_state': 0}\n",
      "\tBest logistic regression CV score: 0.58\n",
      "min_df = 100\n",
      "\tBest Naive Bayes parameters: {'alpha': 100.0}\n",
      "\tBest Naive Bayes CV score: 0.60\n",
      "\tBest random forest parameters: {'max_depth': 4, 'random_state': 0}\n",
      "\tBest random forest CV score: 0.61\n",
      "\tBest logistic regression parameters: {'C': 0.01, 'max_iter': 10000.0, 'random_state': 0}\n",
      "\tBest logistic regression CV score: 0.58\n",
      "min_df = 200\n",
      "\tBest Naive Bayes parameters: {'alpha': 100.0}\n",
      "\tBest Naive Bayes CV score: 0.60\n",
      "\tBest random forest parameters: {'max_depth': 5, 'random_state': 0}\n",
      "\tBest random forest CV score: 0.62\n",
      "\tBest logistic regression parameters: {'C': 0.01, 'max_iter': 10000.0, 'random_state': 0}\n",
      "\tBest logistic regression CV score: 0.58\n",
      "min_df = 300\n",
      "\tBest Naive Bayes parameters: {'alpha': 100.0}\n",
      "\tBest Naive Bayes CV score: 0.60\n",
      "\tBest random forest parameters: {'max_depth': 2, 'random_state': 0}\n",
      "\tBest random forest CV score: 0.60\n",
      "\tBest logistic regression parameters: {'C': 0.01, 'max_iter': 10000.0, 'random_state': 0}\n",
      "\tBest logistic regression CV score: 0.57\n",
      "min_df = 500\n",
      "\tBest Naive Bayes parameters: {'alpha': 100.0}\n",
      "\tBest Naive Bayes CV score: 0.61\n",
      "\tBest random forest parameters: {'max_depth': 2, 'random_state': 0}\n",
      "\tBest random forest CV score: 0.62\n",
      "\tBest logistic regression parameters: {'C': 0.01, 'max_iter': 10000.0, 'random_state': 0}\n",
      "\tBest logistic regression CV score: 0.56\n",
      "\n",
      "Analyzing tweets: ['J', 'P']\n",
      "min_df = 50\n",
      "\tBest Naive Bayes parameters: {'alpha': 10.0}\n",
      "\tBest Naive Bayes CV score: 0.59\n",
      "\tBest random forest parameters: {'max_depth': 5, 'random_state': 0}\n",
      "\tBest random forest CV score: 0.61\n",
      "\tBest logistic regression parameters: {'C': 0.01, 'max_iter': 10000.0, 'random_state': 0}\n",
      "\tBest logistic regression CV score: 0.57\n",
      "min_df = 100\n",
      "\tBest Naive Bayes parameters: {'alpha': 0.01}\n",
      "\tBest Naive Bayes CV score: 0.60\n",
      "\tBest random forest parameters: {'max_depth': 4, 'random_state': 0}\n",
      "\tBest random forest CV score: 0.60\n",
      "\tBest logistic regression parameters: {'C': 0.01, 'max_iter': 10000.0, 'random_state': 0}\n",
      "\tBest logistic regression CV score: 0.56\n",
      "min_df = 200\n",
      "\tBest Naive Bayes parameters: {'alpha': 1.0}\n",
      "\tBest Naive Bayes CV score: 0.59\n",
      "\tBest random forest parameters: {'max_depth': 4, 'random_state': 0}\n",
      "\tBest random forest CV score: 0.59\n",
      "\tBest logistic regression parameters: {'C': 0.01, 'max_iter': 10000.0, 'random_state': 0}\n",
      "\tBest logistic regression CV score: 0.56\n",
      "min_df = 300\n",
      "\tBest Naive Bayes parameters: {'alpha': 0.01}\n",
      "\tBest Naive Bayes CV score: 0.60\n",
      "\tBest random forest parameters: {'max_depth': 4, 'random_state': 0}\n",
      "\tBest random forest CV score: 0.60\n",
      "\tBest logistic regression parameters: {'C': 0.01, 'max_iter': 10000.0, 'random_state': 0}\n",
      "\tBest logistic regression CV score: 0.56\n",
      "min_df = 500\n",
      "\tBest Naive Bayes parameters: {'alpha': 100.0}\n",
      "\tBest Naive Bayes CV score: 0.59\n",
      "\tBest random forest parameters: {'max_depth': 5, 'random_state': 0}\n",
      "\tBest random forest CV score: 0.58\n",
      "\tBest logistic regression parameters: {'C': 0.01, 'max_iter': 10000.0, 'random_state': 0}\n",
      "\tBest logistic regression CV score: 0.55\n",
      "\u0007Elapsed grid searching time: --- 33.47 minutes ---\n"
     ]
    }
   ],
   "source": [
    "stopwatch = TimeTracker.TimeTracker() # Don't include setup.\n",
    "for i, test_letter in enumerate(test_letters):\n",
    "    print(f'\\nAnalyzing tweets: {letters[i]}')\n",
    "    for min_df in [50, 100, 200, 300, 500]:\n",
    "        print(f'min_df = {min_df}')\n",
    "        y = tweets_per_author[test_letter]\n",
    "        vectorizer = CountVectorizer(min_df=min_df)\n",
    "        X = vectorizer.fit_transform(tweets_per_author['Tweet'].to_list())\n",
    "        X_train, X_test, y_train, y_test = train_test_split(\n",
    "            X, y, test_size=0.25, random_state=0)\n",
    "        \n",
    "        param_grid = {'alpha': np.power(10., np.arange(-2, 3))}\n",
    "        grid_search = GridSearchCV(MultinomialNB(), param_grid,\n",
    "                                   cv=5, return_train_score=True)\n",
    "        grid_search.fit(X_train, y_train)\n",
    "        print('\\tBest Naive Bayes parameters: {}'.format(\n",
    "            grid_search.best_params_))\n",
    "        print('\\tBest Naive Bayes CV score: {:.2f}'.format(\n",
    "            grid_search.best_score_))\n",
    "        \n",
    "        param_grid = {'max_depth': [2, 3, 4, 5],\n",
    "                      'random_state': [0]}\n",
    "        grid_search = GridSearchCV(RandomForestClassifier(), param_grid, cv=5,\n",
    "                                    return_train_score=True)\n",
    "        grid_search.fit(X_train, y_train)\n",
    "        print('\\tBest random forest parameters: {}'.format(\n",
    "            grid_search.best_params_))\n",
    "        print('\\tBest random forest CV score: {:.2f}'.format(\n",
    "            grid_search.best_score_))\n",
    "        \n",
    "        param_grid = {'C': np.power(10., np.arange(-2, 3)),\n",
    "                      'max_iter': [1e4], 'random_state': [0]}\n",
    "        grid_search = GridSearchCV(\n",
    "            LogisticRegression(), param_grid, cv=5,\n",
    "            return_train_score=True)\n",
    "        grid_search.fit(X_train, y_train)\n",
    "        print('\\tBest logistic regression parameters: {}'.format(\n",
    "            grid_search.best_params_))\n",
    "        print('\\tBest logistic regression CV score: {:.2f}'.format(\n",
    "            grid_search.best_score_))\n",
    "\n",
    "print('\\aElapsed grid searching time: ' + stopwatch.getElapsedTime())"
   ]
  },
  {
   "cell_type": "markdown",
   "metadata": {},
   "source": [
    "Logistic regressions are by far the slowest of the three classifiers here,\n",
    "and their scores are slightly worse, so we rule them out. Unlike naive Bayes,\n",
    "random forests are a \"black box\" algorithm, whose results are difficult to\n",
    "explain. In addition, naive Bayes consistently has slightly higher scores, so\n",
    "we go with that.\n",
    "\n",
    "The next task is to determine what the optimal value of min_df is. In general,\n",
    "lower min_df's allow more items in the model but also more overfitting. Seeing\n",
    "that different values of min_df do not seem to affect the final score too much,\n",
    "it is a judgment call where to set it. We select a value of 100 to make the\n",
    "model sufficiently complex while avoiding too much overfitting.\n",
    "\n",
    "From here we need to select the optimal value of alpha. Their considerable\n",
    "variation across the optimal results suggests that it may not have much effect\n",
    "on the model. However, we need to try."
   ]
  },
  {
   "cell_type": "code",
   "execution_count": 10,
   "metadata": {},
   "outputs": [
    {
     "name": "stdout",
     "output_type": "stream",
     "text": [
      "\n",
      "Searching optimal alpha: ['E', 'I']\n",
      "\tAlpha, test score: 0.01, 0.5975\n",
      "\tAlpha, test score: 0.1, 0.5975\n",
      "\tAlpha, test score: 1.0, 0.595\n",
      "\tAlpha, test score: 10.0, 0.595\n",
      "\tAlpha, test score: 100.0, 0.5925\n",
      "\n",
      "Searching optimal alpha: ['S', 'N']\n",
      "\tAlpha, test score: 0.01, 0.6625\n",
      "\tAlpha, test score: 0.1, 0.6625\n",
      "\tAlpha, test score: 1.0, 0.6625\n",
      "\tAlpha, test score: 10.0, 0.66\n",
      "\tAlpha, test score: 100.0, 0.66\n",
      "\n",
      "Searching optimal alpha: ['F', 'T']\n",
      "\tAlpha, test score: 0.01, 0.585\n",
      "\tAlpha, test score: 0.1, 0.585\n",
      "\tAlpha, test score: 1.0, 0.585\n",
      "\tAlpha, test score: 10.0, 0.5875\n",
      "\tAlpha, test score: 100.0, 0.5775\n",
      "\n",
      "Searching optimal alpha: ['J', 'P']\n",
      "\tAlpha, test score: 0.01, 0.585\n",
      "\tAlpha, test score: 0.1, 0.585\n",
      "\tAlpha, test score: 1.0, 0.5825\n",
      "\tAlpha, test score: 10.0, 0.5875\n",
      "\tAlpha, test score: 100.0, 0.5825\n"
     ]
    }
   ],
   "source": [
    "test_size = 0.25\n",
    "min_df = 100\n",
    "vectorizer = CountVectorizer(min_df=min_df)\n",
    "# Get the sparse matrix (x, y) of (tweetID, wordID).\n",
    "X = vectorizer.fit_transform(tweets_per_author['Tweet'].to_list())\n",
    "for i, test_letter in enumerate(test_letters):\n",
    "    print(f'\\nSearching optimal alpha: {letters[i]}')\n",
    "    y = tweets_per_author[test_letter]\n",
    "    X_train, X_test, y_train, y_test = train_test_split(\n",
    "        X, y, test_size=test_size, random_state=0)\n",
    "    \n",
    "    best_alpha, best_test_score = None, 0\n",
    "    for alpha in np.power(10., np.arange(-2, 3)):\n",
    "        clf = MultinomialNB(alpha=alpha).fit(X_train, y_train)\n",
    "        test_score = clf.score(X_test, y_test)\n",
    "        print(f'\\tAlpha, test score: {alpha}, {test_score}')\n",
    "        if test_score > best_test_score:\n",
    "             best_alpha, best_test_score = alpha, test_score"
   ]
  },
  {
   "cell_type": "markdown",
   "metadata": {},
   "source": [
    "Alpha has very little effect on our test results. Therefore, for each axis,\n",
    "we select the default of alpha=1.\n",
    "\n",
    "With our classifier and parameter in place, the final step is to gauge the\n",
    "probability threshold. Ideally it should be close to 0.5, but we should test\n",
    "it just to be sure."
   ]
  },
  {
   "cell_type": "code",
   "execution_count": 11,
   "metadata": {},
   "outputs": [],
   "source": [
    "if False:\n",
    "    alpha = 1\n",
    "    fontsize = 12\n",
    "    print('Searching optimal probabilities')\n",
    "    for i, test_letter in enumerate(test_letters):\n",
    "        y = tweets_per_author[test_letter]\n",
    "        X_train, X_test, y_train, y_test = train_test_split(\n",
    "            X, y, test_size=test_size, random_state=0)\n",
    "        \n",
    "        clf = MultinomialNB(alpha=alpha).fit(X_train, y_train)\n",
    "        y_pred_proba = clf.predict_proba(X_test)[:,1]\n",
    "        _, recall0, thresh0 = precision_recall_curve(\n",
    "            y_test, y_pred_proba, pos_label=0)\n",
    "        _, recall1, thresh1 = precision_recall_curve(\n",
    "            y_test, y_pred_proba)\n",
    "        \n",
    "        fig, ax = plt.subplots()\n",
    "        ax.plot(thresh0, recall0[1:], c='r', ls='--', label=letters[i][1])\n",
    "        ax.plot(thresh1, 1-recall1[1:], c='b', ls='--', label=letters[i][0])\n",
    "        \n",
    "        ax.set_xlabel('Probability Threshold', fontsize=fontsize)\n",
    "        ax.set_ylabel('Recall/Balanced Accuracy', fontsize=fontsize) "
   ]
  },
  {
   "cell_type": "code",
   "execution_count": 12,
   "metadata": {},
   "outputs": [
    {
     "name": "stdout",
     "output_type": "stream",
     "text": [
      "Searching optimal probabilities\n"
     ]
    }
   ],
   "source": [
    "dist_from_half = 0.5\n",
    "alpha = 1\n",
    "prob_range = np.arange(0.5-dist_from_half, 0.5+dist_from_half+1e-10, 0.01)\n",
    "balanced_recall = pd.DataFrame(\n",
    "    np.empty([prob_range.size, 4]), columns=test_letters)\n",
    "recall_0 = balanced_recall.copy()\n",
    "recall_1 = balanced_recall.copy()\n",
    "print('Searching optimal probabilities')\n",
    "for i, test_letter in enumerate(test_letters):\n",
    "    y = tweets_per_author[test_letter]\n",
    "    X_train, X_test, y_train, y_test = train_test_split(\n",
    "        X, y, test_size=test_size, random_state=0)\n",
    "    \n",
    "    clf = MultinomialNB(alpha=alpha).fit(X_train, y_train)\n",
    "    for j, prob in enumerate(prob_range):\n",
    "        y_pred = clf.predict_proba(X_test)[:,1] > prob\n",
    "        balanced_recall.iloc[j, i] = balanced_accuracy_score(y_test, y_pred)\n",
    "        precision_recall = precision_recall_fscore_support(\n",
    "            y_test, y_pred, zero_division=0) #avoids warnings\n",
    "        recall_0.iloc[j, i] = precision_recall[1][0]\n",
    "        recall_1.iloc[j, i] = precision_recall[1][1]"
   ]
  },
  {
   "cell_type": "code",
   "execution_count": 13,
   "metadata": {},
   "outputs": [
    {
     "data": {
      "image/png": "[encoded data removed]",
      "text/plain": [
       "<Figure size 432x288 with 1 Axes>"
      ]
     },
     "metadata": {
      "needs_background": "light"
     },
     "output_type": "display_data"
    },
    {
     "data": {
      "image/png": "[encoded data removed]",
      "text/plain": [
       "<Figure size 432x288 with 1 Axes>"
      ]
     },
     "metadata": {
      "needs_background": "light"
     },
     "output_type": "display_data"
    },
    {
     "data": {
      "image/png": "[encoded data removed]",
      "text/plain": [
       "<Figure size 432x288 with 1 Axes>"
      ]
     },
     "metadata": {
      "needs_background": "light"
     },
     "output_type": "display_data"
    },
    {
     "data": {
      "image/png": "[encoded data removed]",
      "text/plain": [
       "<Figure size 432x288 with 1 Axes>"
      ]
     },
     "metadata": {
      "needs_background": "light"
     },
     "output_type": "display_data"
    }
   ],
   "source": [
    "get_label = lambda i: f'{letters[i][0]} vs. {letters[i][1]}'\n",
    "fontsize = 12\n",
    "probabilities = ([0.65, 0.95],\n",
    "                 [0.15, 0.5],\n",
    "                 [0.5, 0.95],\n",
    "                 [0.2, 0.5])\n",
    "for i, letter in enumerate(test_letters):\n",
    "    fig, ax = plt.subplots()\n",
    "    label = get_label(i)\n",
    "    ax.plot(prob_range[1:-1], balanced_recall[1:-1][letter], c='#007700',\n",
    "            label='Bal. Acc.')\n",
    "    ax.plot(prob_range[1:-1], recall_0[1:-1][letter], c='r', ls='--',\n",
    "            label=letters[i][1])\n",
    "    ax.plot(prob_range[1:-1], recall_1[1:-1][letter], c='b', ls='--',\n",
    "            label=letters[i][0])\n",
    "    ax.set_xlabel('Probability Threshold', fontsize=fontsize)\n",
    "    ax.set_ylabel('Recall/Balanced Accuracy', fontsize=fontsize)\n",
    "    proba_pair = probabilities[i]\n",
    "    for j in [0, 1]:\n",
    "        proba = proba_pair[j] \n",
    "        ax.vlines(proba, 0, 1, colors=['k'], lw=1, ls=['--', '-.'][j],\n",
    "                  label=f'p={proba}')\n",
    "    ax.legend(loc=['lower center', 'lower right', 'upper right',\n",
    "                   'upper right'][i])\n",
    "    ax.set_ylim(0.4, 0.8)"
   ]
  },
  {
   "cell_type": "markdown",
   "metadata": {},
   "source": [
    "The probability threshold does not appear to affect the results much. This\n",
    "could indicate that a lot of our results are noise. However, the results are\n",
    "close to 0.6, implying that there may be something worthwhile there and that\n",
    "additional testing may improve the results. Additionally, the S/N axis shows\n",
    "accuracies that are clearly higher than the other three. It suggests that there\n",
    "is a clearer difference in word choice between S's and N's than the other three\n",
    "axes. This may be the best axis on which to focus future work.\n",
    "\n",
    "Next, we do classification reports from the thresholds above."
   ]
  },
  {
   "cell_type": "code",
   "execution_count": 14,
   "metadata": {},
   "outputs": [
    {
     "name": "stdout",
     "output_type": "stream",
     "text": [
      "\n",
      "Classification report for E vs. I\n",
      "Probability = 0.65\n",
      "              precision    recall  f1-score   support\n",
      "\n",
      "       False       0.57      0.62      0.60       196\n",
      "        True       0.60      0.55      0.57       204\n",
      "\n",
      "    accuracy                           0.58       400\n",
      "   macro avg       0.59      0.59      0.58       400\n",
      "weighted avg       0.59      0.58      0.58       400\n",
      "\n",
      "Probability = 0.95\n",
      "              precision    recall  f1-score   support\n",
      "\n",
      "       False       0.57      0.64      0.60       196\n",
      "        True       0.61      0.54      0.58       204\n",
      "\n",
      "    accuracy                           0.59       400\n",
      "   macro avg       0.59      0.59      0.59       400\n",
      "weighted avg       0.59      0.59      0.59       400\n",
      "\n",
      "\n",
      "Classification report for S vs. N\n",
      "Probability = 0.15\n",
      "              precision    recall  f1-score   support\n",
      "\n",
      "       False       0.57      0.60      0.59       196\n",
      "        True       0.60      0.57      0.59       204\n",
      "\n",
      "    accuracy                           0.58       400\n",
      "   macro avg       0.59      0.59      0.59       400\n",
      "weighted avg       0.59      0.58      0.59       400\n",
      "\n",
      "Probability = 0.5\n",
      "              precision    recall  f1-score   support\n",
      "\n",
      "       False       0.57      0.61      0.59       196\n",
      "        True       0.60      0.55      0.58       204\n",
      "\n",
      "    accuracy                           0.58       400\n",
      "   macro avg       0.58      0.58      0.58       400\n",
      "weighted avg       0.58      0.58      0.58       400\n",
      "\n",
      "\n",
      "Classification report for F vs. T\n",
      "Probability = 0.5\n",
      "              precision    recall  f1-score   support\n",
      "\n",
      "       False       0.57      0.61      0.59       196\n",
      "        True       0.60      0.55      0.58       204\n",
      "\n",
      "    accuracy                           0.58       400\n",
      "   macro avg       0.58      0.58      0.58       400\n",
      "weighted avg       0.58      0.58      0.58       400\n",
      "\n",
      "Probability = 0.95\n",
      "              precision    recall  f1-score   support\n",
      "\n",
      "       False       0.57      0.64      0.60       196\n",
      "        True       0.61      0.54      0.58       204\n",
      "\n",
      "    accuracy                           0.59       400\n",
      "   macro avg       0.59      0.59      0.59       400\n",
      "weighted avg       0.59      0.59      0.59       400\n",
      "\n",
      "\n",
      "Classification report for J vs. P\n",
      "Probability = 0.2\n",
      "              precision    recall  f1-score   support\n",
      "\n",
      "       False       0.58      0.61      0.59       196\n",
      "        True       0.60      0.57      0.59       204\n",
      "\n",
      "    accuracy                           0.59       400\n",
      "   macro avg       0.59      0.59      0.59       400\n",
      "weighted avg       0.59      0.59      0.59       400\n",
      "\n",
      "Probability = 0.5\n",
      "              precision    recall  f1-score   support\n",
      "\n",
      "       False       0.57      0.61      0.59       196\n",
      "        True       0.60      0.55      0.58       204\n",
      "\n",
      "    accuracy                           0.58       400\n",
      "   macro avg       0.58      0.58      0.58       400\n",
      "weighted avg       0.58      0.58      0.58       400\n",
      "\n"
     ]
    }
   ],
   "source": [
    "for i, letter in enumerate(test_letters):\n",
    "    print(f'\\nClassification report for {get_label(i)}')\n",
    "    y = tweets_per_author[test_letter]\n",
    "    X_train, X_test, y_train, y_test = train_test_split(\n",
    "        X, y, test_size=test_size, random_state=0)\n",
    "    clf = MultinomialNB(alpha=alpha).fit(X_train, y_train)\n",
    "    \n",
    "    for proba in probabilities[i]:\n",
    "        print(f'Probability = {proba}')\n",
    "        y_pred = clf.predict_proba(X_test)[:,1] > proba\n",
    "        print(classification_report(y_test, y_pred))"
   ]
  },
  {
   "cell_type": "markdown",
   "metadata": {},
   "source": [
    "In all cases, the F1 score is consistently around 0.58-0.59, and changing\n",
    "the threshold has little effect. The slight advantage that the S/N axis had\n",
    "disappears."
   ]
  },
  {
   "cell_type": "code",
   "execution_count": null,
   "metadata": {},
   "outputs": [],
   "source": []
  }
 ],
 "metadata": {
  "kernelspec": {
   "display_name": "Python 3",
   "language": "python",
   "name": "python3"
  },
  "language_info": {
   "codemirror_mode": {
    "name": "ipython",
    "version": 3
   },
   "file_extension": ".py",
   "mimetype": "text/x-python",
   "name": "python",
   "nbconvert_exporter": "python",
   "pygments_lexer": "ipython3",
   "version": "3.8.5"
  }
 },
 "nbformat": 4,
 "nbformat_minor": 4
}
